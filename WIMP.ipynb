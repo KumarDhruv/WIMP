{
  "nbformat": 4,
  "nbformat_minor": 0,
  "metadata": {
    "colab": {
      "name": "WIMP.ipynb",
      "version": "0.3.2",
      "provenance": [],
      "collapsed_sections": [],
      "include_colab_link": true
    },
    "kernelspec": {
      "display_name": "Python 3",
      "language": "python",
      "name": "python3"
    }
  },
  "cells": [
    {
      "cell_type": "markdown",
      "metadata": {
        "id": "view-in-github",
        "colab_type": "text"
      },
      "source": [
        "<a href=\"https://colab.research.google.com/github/restrepo/WIMP/blob/master/WIMP.ipynb\" target=\"_parent\"><img src=\"https://colab.research.google.com/assets/colab-badge.svg\" alt=\"Open In Colab\"/></a>"
      ]
    },
    {
      "metadata": {
        "id": "qFOeVPf9k7aL",
        "colab_type": "text"
      },
      "cell_type": "markdown",
      "source": [
        "# Dark Matter Boltzmann equation\n",
        "\n",
        "This program is made to reproduce the behavior of dark matter yield in WIMP and FIMP frameworks based on Chapter 5th, Kolb Turner (Early Universe)"
      ]
    },
    {
      "metadata": {
        "id": "MfyBj2Vqk7aS",
        "colab_type": "code",
        "colab": {
          "base_uri": "https://localhost:8080/",
          "height": 35
        },
        "outputId": "aa773d2a-5642-42e1-c902-08ce97bab9b1"
      },
      "cell_type": "code",
      "source": [
        "%pylab inline  \n",
        "import numpy as np\n",
        "from numpy import arange\n",
        "from scipy.integrate import odeint"
      ],
      "execution_count": 1,
      "outputs": [
        {
          "output_type": "stream",
          "text": [
            "Populating the interactive namespace from numpy and matplotlib\n"
          ],
          "name": "stdout"
        }
      ]
    },
    {
      "metadata": {
        "id": "kfDBXgSBk7aj",
        "colab_type": "code",
        "colab": {}
      },
      "cell_type": "code",
      "source": [
        "# parameters\n",
        "\n",
        "Ms = 100                                #GeV Singlet Mass\n",
        "Mp = 1.22e19                            #GeV Planck Mass\n",
        "g = 100                                 # Degrees of freedom\n",
        "gs = 106.75                             # Entropy degrees of freedom\n",
        "H0 = 2.133*(0.7)*1e-42                   # GeV Hubble parameter (unused)"
      ],
      "execution_count": 0,
      "outputs": []
    },
    {
      "metadata": {
        "id": "6eWN3WOvk7bP",
        "colab_type": "text"
      },
      "cell_type": "markdown",
      "source": [
        "## Boltzmann equation"
      ]
    },
    {
      "metadata": {
        "id": "RcCQmqVMk7bS",
        "colab_type": "text"
      },
      "cell_type": "markdown",
      "source": [
        "The general expresion for the thermal evolution of DM is as follows (see eq (5.26) Kolb and Turner ):\n",
        "\n",
        "$$ \\frac{x}{Y_{EQ}(x)}\\frac{dY}{dx} =-\\frac{n_{EQ}(x)\\langle \\sigma v \\rangle}{H(x)}\\left[\\left(\\frac{Y}{Y_{EQ}(x)}\\right)^{2} - 1\\right]\\,, $$\n",
        "\n",
        "donde\n",
        "$$n_{EQ} (x)= 2\\left( \\frac{M^{2}}{2\\pi x}\\right)^{3/2} e^{-x}$$ \n",
        "and []see ( eq 5.16) Kolb & Turner]\n",
        "$$H(x) = 1.67 x^{-2} g_{*}^{1/2}\\frac{M^{2}}{Mp}$$    \n",
        "\n",
        "The equilibrium distribution of this particles is consider for the non-relativistic case, as follows (see eq 5.25):\n",
        "\n",
        "$$Y_{EQ}(x) = \\frac{45}{2\\pi^{4}}\\frac{g}{g_{*s}} x^{3/2} e^{-x} = 0.145\\frac{g}{g_{*s}} x^{3/2} e^{-x}\\,, $$\n",
        "\n",
        "where $x = M / T$ and $M= 100$ GeV is the singlet mass taken as constant."
      ]
    },
    {
      "metadata": {
        "id": "0Ox2eXrZk7bX",
        "colab_type": "text"
      },
      "cell_type": "markdown",
      "source": [
        "## WIMP "
      ]
    },
    {
      "metadata": {
        "id": "8r1qLtSXk7bc",
        "colab_type": "text"
      },
      "cell_type": "markdown",
      "source": [
        "The initial condition to solve the evolution equation is $Y(x_i) = Y_{EQ}$, where $x_i=0.01$, such that $T_i=M/x_i=10^4\\ $GeV."
      ]
    },
    {
      "metadata": {
        "id": "966dRlBQvtuH",
        "colab_type": "code",
        "colab": {}
      },
      "cell_type": "code",
      "source": [
        "def Yeq(x):\n",
        "    return 0.145*(g/gs)*(x)**(3/2)*np.exp(-x)\n",
        "\n",
        "xi=1E-4\n",
        "xe=1000\n",
        "npts=3000\n",
        "# For several order of magnitude: \n",
        "x = np.linspace(0.01, 1000, 1000)"
      ],
      "execution_count": 0,
      "outputs": []
    },
    {
      "metadata": {
        "id": "CCa0bZIfk7bf",
        "colab_type": "code",
        "colab": {}
      },
      "cell_type": "code",
      "source": [
        "sigmav=[1.7475568196239999e-09,1.7475568196239999e-06]\n",
        "def eqd(yl,x,Ms = 100,σv = sigmav[0]):\n",
        "    '''\n",
        "    Ms  [GeV]     : Singlet Mass\n",
        "    σv: [1/GeV^2] : ⟨σv⟩\n",
        "    '''\n",
        "    \n",
        "    Mp = 1.22e19                            \n",
        "    g = 100                                 # Degrees of freedom\n",
        "    gs = 106.75                             # Entropy degrees of freedom\n",
        "    \n",
        "    H = 1.67*g**(1/2)*Ms**2/Mp\n",
        "    \n",
        "    dyl = -2*(((Ms**2/(2*np.pi*x))**(3/2)*np.exp(-x))*σv/(x**(-2)*H*x))*(yl**2 - (0.145*(g/gs)*(x)**(3/2)*np.exp(-x))**2)\n",
        "    \n",
        "    return dyl"
      ],
      "execution_count": 0,
      "outputs": []
    },
    {
      "metadata": {
        "id": "55PQ1h0lk7bp",
        "colab_type": "code",
        "outputId": "7d8da985-8901-4e21-f5b5-97c494c7cbb4",
        "colab": {
          "base_uri": "https://localhost:8080/",
          "height": 35
        }
      },
      "cell_type": "code",
      "source": [
        "#Test the function\n",
        "eqd(0.005,1)"
      ],
      "execution_count": 5,
      "outputs": [
        {
          "output_type": "execute_result",
          "data": {
            "text/plain": [
              "14742851.795673216"
            ]
          },
          "metadata": {
            "tags": []
          },
          "execution_count": 5
        }
      ]
    },
    {
      "metadata": {
        "id": "Ko82KOzZ-jMJ",
        "colab_type": "code",
        "colab": {}
      },
      "cell_type": "code",
      "source": [
        "#Initial conditions\n",
        "y0 = Yeq(x[0])\n",
        "yl =  odeint( eqd, y0, x,args=(Ms,sigmav[0]) )\n",
        "yl1 = odeint( eqd, y0, x,args=(Ms,sigmav[1]) )"
      ],
      "execution_count": 0,
      "outputs": []
    },
    {
      "metadata": {
        "id": "bq9orPWqk7b_",
        "colab_type": "text"
      },
      "cell_type": "markdown",
      "source": [
        "The following plot can be find in the reference book (Figure 5.1)"
      ]
    },
    {
      "metadata": {
        "id": "HlrFpyGwk7cC",
        "colab_type": "code",
        "outputId": "291f4519-ee2d-4f95-ba2a-818647d12ec1",
        "colab": {
          "base_uri": "https://localhost:8080/",
          "height": 309
        }
      },
      "cell_type": "code",
      "source": [
        "plt.loglog(x,yl, label = r'$\\langle σ v\\rangle = 1.74 \\times 10^{-9} {\\rm GeV}^{-2}$')\n",
        "plt.loglog(x,yl1, label = r'$\\langle σ v\\rangle = 1.74 \\times 10^{-6} {\\rm GeV}^{-2}$')\n",
        "plt.loglog(x,Yeq(x), '--', label = '$Y_{EQ}$')\n",
        "plt.ylim(ymax=0.1,ymin=1e-20)\n",
        "plt.xlim(xmax=1e3,xmin=1)\n",
        "plt.xlabel('$x = M/T$', size= 15)\n",
        "plt.ylabel('$Y$', size= 15)\n",
        "plt.title('$M = 100$ GeV', size= 15)\n",
        "plt.legend(loc='best',fontsize=10)\n",
        "plt.grid(True)"
      ],
      "execution_count": 10,
      "outputs": [
        {
          "output_type": "display_data",
          "data": {
            "image/png": "[encoded data removed]",
            "text/plain": [
              "<matplotlib.figure.Figure at 0x7fbbd775aa20>"
            ]
          },
          "metadata": {
            "tags": []
          }
        }
      ]
    },
    {
      "metadata": {
        "id": "Rbeje9bVk7au",
        "colab_type": "text"
      },
      "cell_type": "markdown",
      "source": [
        "## Equilibrium distribution"
      ]
    },
    {
      "metadata": {
        "id": "fxQO08Fxk7ay",
        "colab_type": "text"
      },
      "cell_type": "markdown",
      "source": [
        "Here we consider thermal production of dark matter particles.\n",
        "The equilibrium distribution of this particles is consider for the non-relativistic case, as follows (see eq 5.25):\n",
        "\n",
        "$$Y_{EQ}(x) = \\frac{45}{2\\pi^{4}}\\frac{g}{g_{*s}} x^{3/2} e^{-x} = 0.145\\frac{g}{g_{*s}} x^{3/2} e^{-x}\\,, $$\n",
        "\n",
        "where $x = M / T$ and $M= 100$ GeV is the singlet mass taken as constant."
      ]
    },
    {
      "metadata": {
        "id": "GJxvJbwLk7a2",
        "colab_type": "code",
        "colab": {}
      },
      "cell_type": "code",
      "source": [
        "#  Equilibrium distribution test\n",
        "\n",
        "\n"
      ],
      "execution_count": 0,
      "outputs": []
    },
    {
      "metadata": {
        "id": "HNNmxK9rDwZZ",
        "colab_type": "code",
        "colab": {}
      },
      "cell_type": "code",
      "source": [
        "x=np.logspace( np.log10( xi) , np.log10( xe) ,npts  )"
      ],
      "execution_count": 0,
      "outputs": []
    },
    {
      "metadata": {
        "id": "Q-8mL9WWk7bB",
        "colab_type": "code",
        "colab": {}
      },
      "cell_type": "code",
      "source": [
        "plt.loglog(x, Yeq(x))\n",
        "plt.ylim(ymax=0.1,ymin=1e-20)\n",
        "plt.xlim(xmax=1e3,xmin=1)\n",
        "plt.xlabel('$x = M/T$', size= 15)\n",
        "plt.ylabel('$Y_{EQ}$', size= 15)\n",
        "plt.grid(True)"
      ],
      "execution_count": 0,
      "outputs": []
    },
    {
      "metadata": {
        "id": "GI6XlP08wLyq",
        "colab_type": "code",
        "colab": {}
      },
      "cell_type": "code",
      "source": [
        ""
      ],
      "execution_count": 0,
      "outputs": []
    }
  ]
}